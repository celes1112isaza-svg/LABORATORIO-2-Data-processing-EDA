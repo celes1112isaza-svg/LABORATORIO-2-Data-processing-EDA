{
  "cells": [
    {
      "cell_type": "markdown",
      "metadata": {
        "id": "s8rVHzjlKQc_"
      },
      "source": [
        "# Preprocesamiento de Datos - Ejemplo Práctico"
      ]
    },
    {
      "cell_type": "markdown",
      "metadata": {
        "id": "QnEMEIWNKQdC"
      },
      "source": [
        "En esta demostración se preprocesará un conjunto de datos de población estadounidense. Los datos utilizados son un subconjunto modificado de [este set de datos](https://archive.ics.uci.edu/ml/datasets/Adult) y se encuentran en el archivo `census.csv`."
      ]
    },
    {
      "cell_type": "markdown",
      "metadata": {},
      "source": [
        "***Laura y Celeste***"
      ]
    },
    {
      "cell_type": "code",
      "execution_count": 1,
      "metadata": {
        "id": "yc1OaWNSKQdC"
      },
      "outputs": [],
      "source": [
        "import pandas as pd"
      ]
    },
    {
      "cell_type": "code",
      "execution_count": 2,
      "metadata": {
        "id": "TVugcGmeKQdD"
      },
      "outputs": [
        {
          "name": "stdout",
          "output_type": "stream",
          "text": [
            "        age         workclass         education                race     sex  \\\n",
            "0      39.0         State-gov         Bachelors               White    Male   \n",
            "1      50.0  Self-emp-not-inc         Bachelors               White    Male   \n",
            "2      38.0           Private       High-school               White    Male   \n",
            "3      53.0           Private  Some-high-school               Black    Male   \n",
            "4      28.0           Private         Bachelors               Black  Female   \n",
            "...     ...               ...               ...                 ...     ...   \n",
            "41711  33.0           Private         Bachelors               White    Male   \n",
            "41712  39.0           Private         Bachelors               White  Female   \n",
            "41713  38.0           Private         Bachelors               White    Male   \n",
            "41714  44.0           Private         Bachelors  Asian-Pac-Islander    Male   \n",
            "41715  35.0      Self-emp-inc         Bachelors               White    Male   \n",
            "\n",
            "       hours_per_week  USA_born  label  \n",
            "0                40.0       1.0  <=50K  \n",
            "1                13.0       1.0  <=50K  \n",
            "2                40.0       1.0  <=50K  \n",
            "3                40.0       1.0  <=50K  \n",
            "4                40.0       0.0  <=50K  \n",
            "...               ...       ...    ...  \n",
            "41711            40.0       1.0  <=50K  \n",
            "41712            36.0       1.0  <=50K  \n",
            "41713            50.0       1.0  <=50K  \n",
            "41714            40.0       1.0  <=50K  \n",
            "41715            60.0       1.0   >50K  \n",
            "\n",
            "[41716 rows x 8 columns]\n"
          ]
        }
      ],
      "source": [
        "# Importemos los datos:\n",
        "df = pd.read_csv('census.csv')\n",
        "print(df)"
      ]
    },
    {
      "cell_type": "code",
      "execution_count": 3,
      "metadata": {
        "id": "nhDjnE2VKQdE"
      },
      "outputs": [
        {
          "name": "stdout",
          "output_type": "stream",
          "text": [
            "    age         workclass         education   race     sex  hours_per_week  \\\n",
            "0  39.0         State-gov         Bachelors  White    Male            40.0   \n",
            "1  50.0  Self-emp-not-inc         Bachelors  White    Male            13.0   \n",
            "2  38.0           Private       High-school  White    Male            40.0   \n",
            "3  53.0           Private  Some-high-school  Black    Male            40.0   \n",
            "4  28.0           Private         Bachelors  Black  Female            40.0   \n",
            "\n",
            "   USA_born  label  \n",
            "0       1.0  <=50K  \n",
            "1       1.0  <=50K  \n",
            "2       1.0  <=50K  \n",
            "3       1.0  <=50K  \n",
            "4       0.0  <=50K  \n"
          ]
        }
      ],
      "source": [
        "# Veamos el dataset:\n",
        "print(df.head())"
      ]
    },
    {
      "cell_type": "code",
      "execution_count": 4,
      "metadata": {
        "id": "TtkP_GdhKQdF"
      },
      "outputs": [
        {
          "name": "stdout",
          "output_type": "stream",
          "text": [
            "<class 'pandas.core.frame.DataFrame'>\n",
            "RangeIndex: 41716 entries, 0 to 41715\n",
            "Data columns (total 8 columns):\n",
            " #   Column          Non-Null Count  Dtype  \n",
            "---  ------          --------------  -----  \n",
            " 0   age             41617 non-null  float64\n",
            " 1   workclass       41705 non-null  object \n",
            " 2   education       41702 non-null  object \n",
            " 3   race            41700 non-null  object \n",
            " 4   sex             41701 non-null  object \n",
            " 5   hours_per_week  41631 non-null  float64\n",
            " 6   USA_born        41701 non-null  float64\n",
            " 7   label           41716 non-null  object \n",
            "dtypes: float64(3), object(5)\n",
            "memory usage: 2.5+ MB\n"
          ]
        },
        {
          "data": {
            "text/html": [
              "<div>\n",
              "<style scoped>\n",
              "    .dataframe tbody tr th:only-of-type {\n",
              "        vertical-align: middle;\n",
              "    }\n",
              "\n",
              "    .dataframe tbody tr th {\n",
              "        vertical-align: top;\n",
              "    }\n",
              "\n",
              "    .dataframe thead th {\n",
              "        text-align: right;\n",
              "    }\n",
              "</style>\n",
              "<table border=\"1\" class=\"dataframe\">\n",
              "  <thead>\n",
              "    <tr style=\"text-align: right;\">\n",
              "      <th></th>\n",
              "      <th>age</th>\n",
              "      <th>hours_per_week</th>\n",
              "      <th>USA_born</th>\n",
              "    </tr>\n",
              "  </thead>\n",
              "  <tbody>\n",
              "    <tr>\n",
              "      <th>count</th>\n",
              "      <td>41617.000000</td>\n",
              "      <td>41631.000000</td>\n",
              "      <td>41701.000000</td>\n",
              "    </tr>\n",
              "    <tr>\n",
              "      <th>mean</th>\n",
              "      <td>38.476608</td>\n",
              "      <td>40.743220</td>\n",
              "      <td>0.895062</td>\n",
              "    </tr>\n",
              "    <tr>\n",
              "      <th>std</th>\n",
              "      <td>13.365972</td>\n",
              "      <td>12.000085</td>\n",
              "      <td>0.306477</td>\n",
              "    </tr>\n",
              "    <tr>\n",
              "      <th>min</th>\n",
              "      <td>17.000000</td>\n",
              "      <td>1.000000</td>\n",
              "      <td>0.000000</td>\n",
              "    </tr>\n",
              "    <tr>\n",
              "      <th>25%</th>\n",
              "      <td>28.000000</td>\n",
              "      <td>40.000000</td>\n",
              "      <td>1.000000</td>\n",
              "    </tr>\n",
              "    <tr>\n",
              "      <th>50%</th>\n",
              "      <td>37.000000</td>\n",
              "      <td>40.000000</td>\n",
              "      <td>1.000000</td>\n",
              "    </tr>\n",
              "    <tr>\n",
              "      <th>75%</th>\n",
              "      <td>47.000000</td>\n",
              "      <td>45.000000</td>\n",
              "      <td>1.000000</td>\n",
              "    </tr>\n",
              "    <tr>\n",
              "      <th>max</th>\n",
              "      <td>90.000000</td>\n",
              "      <td>99.000000</td>\n",
              "      <td>1.000000</td>\n",
              "    </tr>\n",
              "  </tbody>\n",
              "</table>\n",
              "</div>"
            ],
            "text/plain": [
              "                age  hours_per_week      USA_born\n",
              "count  41617.000000    41631.000000  41701.000000\n",
              "mean      38.476608       40.743220      0.895062\n",
              "std       13.365972       12.000085      0.306477\n",
              "min       17.000000        1.000000      0.000000\n",
              "25%       28.000000       40.000000      1.000000\n",
              "50%       37.000000       40.000000      1.000000\n",
              "75%       47.000000       45.000000      1.000000\n",
              "max       90.000000       99.000000      1.000000"
            ]
          },
          "execution_count": 4,
          "metadata": {},
          "output_type": "execute_result"
        }
      ],
      "source": [
        "# Descripción de las columnas:\n",
        "df.info()\n",
        "df.describe()"
      ]
    },
    {
      "cell_type": "code",
      "execution_count": 5,
      "metadata": {
        "id": "F52oYL-0KQdF"
      },
      "outputs": [
        {
          "data": {
            "text/plain": [
              "age               99\n",
              "workclass         11\n",
              "education         14\n",
              "race              16\n",
              "sex               15\n",
              "hours_per_week    85\n",
              "USA_born          15\n",
              "label              0\n",
              "dtype: int64"
            ]
          },
          "execution_count": 5,
          "metadata": {},
          "output_type": "execute_result"
        }
      ],
      "source": [
        "# Verifiquemos si hay datos faltantes:\n",
        "df.isnull().sum()\n",
        "#df.isnull verifica si hay valores nulos en el dataframe y devuelve un dataframe booleano.\n",
        "#df.sum cuenta el numero de valores nulos en cada columna."
      ]
    },
    {
      "cell_type": "code",
      "execution_count": 6,
      "metadata": {
        "id": "oELVryAFKQdG"
      },
      "outputs": [],
      "source": [
        "# Descartemos las filas que tengan 3 o más datos faltantes:\n",
        "df = df[df.isnull().sum(axis=1) < 3]\n",
        "#.sum(axis=1) cuenta el numero de valores nulos en cada fila.\n",
        "#Especifica el eje sobre el cual se  realiza la operacion en este caso significa que la suma se calcula sobre las columnas para cada filas.\n"
      ]
    },
    {
      "cell_type": "code",
      "execution_count": 7,
      "metadata": {
        "id": "hdtT5hChKQdG"
      },
      "outputs": [
        {
          "data": {
            "text/plain": [
              "age               85\n",
              "workclass          0\n",
              "education          0\n",
              "race               0\n",
              "sex                0\n",
              "hours_per_week    68\n",
              "USA_born           0\n",
              "label              0\n",
              "dtype: int64"
            ]
          },
          "execution_count": 7,
          "metadata": {},
          "output_type": "execute_result"
        }
      ],
      "source": [
        "# Contemos de nuevo los datos faltantes:\n",
        "df.isnull().sum()"
      ]
    },
    {
      "cell_type": "code",
      "execution_count": 8,
      "metadata": {
        "id": "jMjy5fXPKQdH"
      },
      "outputs": [],
      "source": [
        "# Imputemos los datos faltantes de edad y horas trabajadas por semana con la mediana de cada una de esas columnas:\n",
        "medianas=df[['age','hours_per_week']].median()\n",
        "df[['age','hours_per_week']]=df[['age','hours_per_week']].fillna(medianas)"
      ]
    },
    {
      "cell_type": "code",
      "execution_count": 9,
      "metadata": {
        "id": "bGI3JuDxKQdH"
      },
      "outputs": [
        {
          "data": {
            "text/plain": [
              "age               0\n",
              "workclass         0\n",
              "education         0\n",
              "race              0\n",
              "sex               0\n",
              "hours_per_week    0\n",
              "USA_born          0\n",
              "label             0\n",
              "dtype: int64"
            ]
          },
          "execution_count": 9,
          "metadata": {},
          "output_type": "execute_result"
        }
      ],
      "source": [
        "# Contemos de nuevo los datos faltantes:\n",
        "df.isnull().sum()"
      ]
    },
    {
      "cell_type": "code",
      "execution_count": 10,
      "metadata": {
        "id": "r-igPzINKQdI"
      },
      "outputs": [
        {
          "name": "stdout",
          "output_type": "stream",
          "text": [
            "        age         education                race     sex  hours_per_week  \\\n",
            "0      39.0         Bachelors               White    Male            40.0   \n",
            "1      50.0         Bachelors               White    Male            13.0   \n",
            "2      38.0       High-school               White    Male            40.0   \n",
            "3      53.0  Some-high-school               Black    Male            40.0   \n",
            "4      28.0         Bachelors               Black  Female            40.0   \n",
            "...     ...               ...                 ...     ...             ...   \n",
            "41711  33.0         Bachelors               White    Male            40.0   \n",
            "41712  39.0         Bachelors               White  Female            36.0   \n",
            "41713  38.0         Bachelors               White    Male            50.0   \n",
            "41714  44.0         Bachelors  Asian-Pac-Islander    Male            40.0   \n",
            "41715  35.0         Bachelors               White    Male            60.0   \n",
            "\n",
            "       USA_born  label  workclass_Federal-gov  workclass_Local-gov  \\\n",
            "0           1.0  <=50K                  False                False   \n",
            "1           1.0  <=50K                  False                False   \n",
            "2           1.0  <=50K                  False                False   \n",
            "3           1.0  <=50K                  False                False   \n",
            "4           0.0  <=50K                  False                False   \n",
            "...         ...    ...                    ...                  ...   \n",
            "41711       1.0  <=50K                  False                False   \n",
            "41712       1.0  <=50K                  False                False   \n",
            "41713       1.0  <=50K                  False                False   \n",
            "41714       1.0  <=50K                  False                False   \n",
            "41715       1.0   >50K                  False                False   \n",
            "\n",
            "       workclass_Private  workclass_Self-emp-inc  workclass_Self-emp-not-inc  \\\n",
            "0                  False                   False                       False   \n",
            "1                  False                   False                        True   \n",
            "2                   True                   False                       False   \n",
            "3                   True                   False                       False   \n",
            "4                   True                   False                       False   \n",
            "...                  ...                     ...                         ...   \n",
            "41711               True                   False                       False   \n",
            "41712               True                   False                       False   \n",
            "41713               True                   False                       False   \n",
            "41714               True                   False                       False   \n",
            "41715              False                    True                       False   \n",
            "\n",
            "       workclass_State-gov  workclass_Without-pay  \n",
            "0                     True                  False  \n",
            "1                    False                  False  \n",
            "2                    False                  False  \n",
            "3                    False                  False  \n",
            "4                    False                  False  \n",
            "...                    ...                    ...  \n",
            "41711                False                  False  \n",
            "41712                False                  False  \n",
            "41713                False                  False  \n",
            "41714                False                  False  \n",
            "41715                False                  False  \n",
            "\n",
            "[41694 rows x 14 columns]\n"
          ]
        }
      ],
      "source": [
        "# Apliquemos one-hot encoding a la columna \"workclass\":\n",
        "one_hot=pd.get_dummies(df, columns=['workclass'])\n",
        "print(one_hot)"
      ]
    },
    {
      "cell_type": "code",
      "execution_count": 11,
      "metadata": {
        "id": "pCHO1YHhKQdI"
      },
      "outputs": [
        {
          "name": "stdout",
          "output_type": "stream",
          "text": [
            "['Bachelors' 'High-school' 'Some-high-school' 'Masters' 'Some-college'\n",
            " 'Middle-school' 'Doctorate' 'Some-middle-school' 'Preschool'\n",
            " 'Elementary-school']\n"
          ]
        }
      ],
      "source": [
        "# Hallemos los valores que toma la columna \"education\":\n",
        "education_values = df['education'].unique()\n",
        "print(education_values)"
      ]
    },
    {
      "cell_type": "code",
      "execution_count": 12,
      "metadata": {
        "id": "e1M_SL3oKQdI"
      },
      "outputs": [
        {
          "name": "stdout",
          "output_type": "stream",
          "text": [
            "0        12.0\n",
            "1        12.0\n",
            "2         NaN\n",
            "3         NaN\n",
            "4        12.0\n",
            "         ... \n",
            "41711    12.0\n",
            "41712    12.0\n",
            "41713    12.0\n",
            "41714    12.0\n",
            "41715    12.0\n",
            "Name: education, Length: 41694, dtype: float64\n"
          ]
        }
      ],
      "source": [
        "# Apliquemos ordinal encoding a la columna \"education\":\n",
        "education_order = ['Preschool', '1st-4th', '5th-6th', '7th-8th', '9th', '10th', '11th', '12th', 'HS-grad', 'Some-college', 'Assoc-voc', 'Assoc-acdm', 'Bachelors', 'Masters', 'Prof-school', 'Doctorate']\n",
        "education_mapping = {level: index for index, level in enumerate(education_order)}\n",
        "df['education'] = df['education'].map(education_mapping)\n",
        "print(df['education'])\n"
      ]
    },
    {
      "cell_type": "code",
      "execution_count": 13,
      "metadata": {
        "id": "7yir-A1FKQdJ"
      },
      "outputs": [
        {
          "name": "stdout",
          "output_type": "stream",
          "text": [
            "[12. nan 13.  9. 15.  0.]\n"
          ]
        }
      ],
      "source": [
        "# Verifiquemos que la columna \"education\" tenga los valores apropiados:\n",
        "print(df['education'].unique())\n"
      ]
    },
    {
      "cell_type": "code",
      "execution_count": 14,
      "metadata": {
        "id": "1a5IeYUfKQdJ"
      },
      "outputs": [
        {
          "name": "stdout",
          "output_type": "stream",
          "text": [
            "        age         workclass  education     sex  hours_per_week  USA_born  \\\n",
            "0      39.0         State-gov       12.0    Male            40.0       1.0   \n",
            "1      50.0  Self-emp-not-inc       12.0    Male            13.0       1.0   \n",
            "2      38.0           Private        NaN    Male            40.0       1.0   \n",
            "3      53.0           Private        NaN    Male            40.0       1.0   \n",
            "4      28.0           Private       12.0  Female            40.0       0.0   \n",
            "...     ...               ...        ...     ...             ...       ...   \n",
            "41711  33.0           Private       12.0    Male            40.0       1.0   \n",
            "41712  39.0           Private       12.0  Female            36.0       1.0   \n",
            "41713  38.0           Private       12.0    Male            50.0       1.0   \n",
            "41714  44.0           Private       12.0    Male            40.0       1.0   \n",
            "41715  35.0      Self-emp-inc       12.0    Male            60.0       1.0   \n",
            "\n",
            "       label  race_Amer-Indian-Eskimo  race_Asian-Pac-Islander  race_Black  \\\n",
            "0      <=50K                    False                    False       False   \n",
            "1      <=50K                    False                    False       False   \n",
            "2      <=50K                    False                    False       False   \n",
            "3      <=50K                    False                    False        True   \n",
            "4      <=50K                    False                    False        True   \n",
            "...      ...                      ...                      ...         ...   \n",
            "41711  <=50K                    False                    False       False   \n",
            "41712  <=50K                    False                    False       False   \n",
            "41713  <=50K                    False                    False       False   \n",
            "41714  <=50K                    False                     True       False   \n",
            "41715   >50K                    False                    False       False   \n",
            "\n",
            "       race_Other  race_White  \n",
            "0           False        True  \n",
            "1           False        True  \n",
            "2           False        True  \n",
            "3           False       False  \n",
            "4           False       False  \n",
            "...           ...         ...  \n",
            "41711       False        True  \n",
            "41712       False        True  \n",
            "41713       False        True  \n",
            "41714       False       False  \n",
            "41715       False        True  \n",
            "\n",
            "[41694 rows x 12 columns]\n"
          ]
        }
      ],
      "source": [
        "# Apliquemos one-hot encoding a la columna \"race\":\n",
        "one_hot_race=pd.get_dummies(df, columns=['race'])\n",
        "print(one_hot_race)\n",
        "\n"
      ]
    },
    {
      "cell_type": "code",
      "execution_count": 15,
      "metadata": {
        "id": "U_gDOpMQKQdJ"
      },
      "outputs": [
        {
          "name": "stdout",
          "output_type": "stream",
          "text": [
            "0        0\n",
            "1        0\n",
            "2        0\n",
            "3        0\n",
            "4        1\n",
            "        ..\n",
            "41711    0\n",
            "41712    1\n",
            "41713    0\n",
            "41714    0\n",
            "41715    0\n",
            "Name: sex, Length: 41694, dtype: int64\n"
          ]
        }
      ],
      "source": [
        "# Apliquemos binary encoding a la columna \"sex\":\n",
        "df['sex']=df['sex'].map({'Male':0,'Female':1})\n",
        "print(df['sex'])    "
      ]
    },
    {
      "cell_type": "code",
      "execution_count": 24,
      "metadata": {
        "id": "lTqxp3fZKQdK"
      },
      "outputs": [
        {
          "name": "stdout",
          "output_type": "stream",
          "text": [
            "🔍 Columnas categóricas detectadas: ['workclass', 'race', 'label']\n"
          ]
        }
      ],
      "source": [
        "import category_encoders as ce\n",
        "columnas_categoricas = df.select_dtypes(include=['object', 'category']).columns.tolist()\n",
        "print(\"🔍 Columnas categóricas detectadas:\", columnas_categoricas)\n",
        "# Aplicar Binary Encoding\n",
        "encoder = ce.BinaryEncoder(cols=columnas_categoricas)\n",
        "df_encoded = encoder.fit_transform(df[columnas_categoricas])\n",
        "\n",
        "df_final = pd.concat([df.drop(columns=columnas_categoricas), df_encoded], axis=1)\n",
        "\n"
      ]
    },
    {
      "cell_type": "code",
      "execution_count": 25,
      "metadata": {
        "id": "sMRU3qrKKQdK"
      },
      "outputs": [
        {
          "name": "stdout",
          "output_type": "stream",
          "text": [
            "    age  education  sex  hours_per_week  USA_born  workclass_0  workclass_1  \\\n",
            "0  39.0       12.0    0            40.0       1.0            0            0   \n",
            "1  50.0       12.0    0            13.0       1.0            0            1   \n",
            "2  38.0        NaN    0            40.0       1.0            0            1   \n",
            "3  53.0        NaN    0            40.0       1.0            0            1   \n",
            "4  28.0       12.0    1            40.0       0.0            0            1   \n",
            "\n",
            "   workclass_2  race_0  race_1  race_2  label_0  label_1  \n",
            "0            1       0       0       1        0        1  \n",
            "1            0       0       0       1        0        1  \n",
            "2            1       0       0       1        0        1  \n",
            "3            1       0       1       0        0        1  \n",
            "4            1       0       1       0        0        1  \n"
          ]
        }
      ],
      "source": [
        "# Veamos el dataset resultante:\n",
        "print(df_final.head())\n"
      ]
    },
    {
      "cell_type": "code",
      "execution_count": 26,
      "metadata": {
        "id": "ObK6H67oKQdK"
      },
      "outputs": [
        {
          "name": "stdout",
          "output_type": "stream",
          "text": [
            "<class 'pandas.core.frame.DataFrame'>\n",
            "Index: 41694 entries, 0 to 41715\n",
            "Data columns (total 13 columns):\n",
            " #   Column          Non-Null Count  Dtype  \n",
            "---  ------          --------------  -----  \n",
            " 0   age             41694 non-null  float64\n",
            " 1   education       21033 non-null  float64\n",
            " 2   sex             41694 non-null  int64  \n",
            " 3   hours_per_week  41694 non-null  float64\n",
            " 4   USA_born        41694 non-null  float64\n",
            " 5   workclass_0     41694 non-null  int64  \n",
            " 6   workclass_1     41694 non-null  int64  \n",
            " 7   workclass_2     41694 non-null  int64  \n",
            " 8   race_0          41694 non-null  int64  \n",
            " 9   race_1          41694 non-null  int64  \n",
            " 10  race_2          41694 non-null  int64  \n",
            " 11  label_0         41694 non-null  int64  \n",
            " 12  label_1         41694 non-null  int64  \n",
            "dtypes: float64(4), int64(9)\n",
            "memory usage: 4.5 MB\n",
            "None\n",
            "                age     education           sex  hours_per_week      USA_born  \\\n",
            "count  41694.000000  21033.000000  41694.000000    41694.000000  41694.000000   \n",
            "mean      38.471651     10.733181      0.323955       40.742529      0.895045   \n",
            "std       13.351404      1.885545      0.467989       11.990589      0.306499   \n",
            "min       17.000000      0.000000      0.000000        1.000000      0.000000   \n",
            "25%       28.000000      9.000000      0.000000       40.000000      1.000000   \n",
            "50%       37.000000     12.000000      0.000000       40.000000      1.000000   \n",
            "75%       47.000000     12.000000      1.000000       45.000000      1.000000   \n",
            "max       90.000000     15.000000      1.000000       99.000000      1.000000   \n",
            "\n",
            "        workclass_0   workclass_1   workclass_2       race_0        race_1  \\\n",
            "count  41694.000000  41694.000000  41694.000000  41694.00000  41694.000000   \n",
            "mean       0.133329      0.858757      0.854080      0.01782      0.126781   \n",
            "std        0.339934      0.348277      0.353031      0.13230      0.332731   \n",
            "min        0.000000      0.000000      0.000000      0.00000      0.000000   \n",
            "25%        0.000000      1.000000      1.000000      0.00000      0.000000   \n",
            "50%        0.000000      1.000000      1.000000      0.00000      0.000000   \n",
            "75%        0.000000      1.000000      1.000000      0.00000      0.000000   \n",
            "max        1.000000      1.000000      1.000000      1.00000      1.000000   \n",
            "\n",
            "             race_2       label_0       label_1  \n",
            "count  41694.000000  41694.000000  41694.000000  \n",
            "mean       0.894229      0.237372      0.762628  \n",
            "std        0.307547      0.425477      0.425477  \n",
            "min        0.000000      0.000000      0.000000  \n",
            "25%        1.000000      0.000000      1.000000  \n",
            "50%        1.000000      0.000000      1.000000  \n",
            "75%        1.000000      0.000000      1.000000  \n",
            "max        1.000000      1.000000      1.000000  \n"
          ]
        }
      ],
      "source": [
        "# Veamos la nueva descripción del dataset:\n",
        "print(df_final.info())\n",
        "print(df_final.describe())\n",
        "\n"
      ]
    },
    {
      "cell_type": "code",
      "execution_count": 27,
      "metadata": {
        "id": "h0HVzXlGKQdL"
      },
      "outputs": [
        {
          "name": "stdout",
          "output_type": "stream",
          "text": [
            "age               float64\n",
            "education         float64\n",
            "sex                 int64\n",
            "hours_per_week    float64\n",
            "USA_born          float64\n",
            "workclass_0         int64\n",
            "workclass_1         int64\n",
            "workclass_2         int64\n",
            "race_0              int64\n",
            "race_1              int64\n",
            "race_2              int64\n",
            "label_0             int64\n",
            "label_1             int64\n",
            "dtype: object\n"
          ]
        }
      ],
      "source": [
        "# Verifiquemos el tipo de dato de cada columna:\n",
        "print(df_final.dtypes)\n"
      ]
    },
    {
      "cell_type": "code",
      "execution_count": 31,
      "metadata": {
        "id": "06yo3fUBKQdL"
      },
      "outputs": [
        {
          "name": "stdout",
          "output_type": "stream",
          "text": [
            "    age  education  sex  hours_per_week  USA_born  workclass_0  workclass_1  \\\n",
            "0  39.0       12.0    0            40.0       1.0            0            0   \n",
            "1  50.0       12.0    0            13.0       1.0            0            1   \n",
            "2  38.0        NaN    0            40.0       1.0            0            1   \n",
            "3  53.0        NaN    0            40.0       1.0            0            1   \n",
            "4  28.0       12.0    1            40.0       0.0            0            1   \n",
            "\n",
            "   workclass_2  race_0  race_1  race_2  label_0  label_1  \n",
            "0            1       0       0       1        0        1  \n",
            "1            0       0       0       1        0        1  \n",
            "2            1       0       0       1        0        1  \n",
            "3            1       0       1       0        0        1  \n",
            "4            1       0       1       0        0        1  \n"
          ]
        }
      ],
      "source": [
        "# Carguemos el dataset a un nuevo archivo:\n",
        "df_final.to_csv('census_preprocessed.csv', index=False)\n",
        "df = pd.read_csv('census_preprocessed.csv')\n",
        "print(df.head())\n",
        "\n",
        "\n"
      ]
    }
  ],
  "metadata": {
    "colab": {
      "provenance": []
    },
    "kernelspec": {
      "display_name": "Python 3",
      "language": "python",
      "name": "python3"
    },
    "language_info": {
      "codemirror_mode": {
        "name": "ipython",
        "version": 3
      },
      "file_extension": ".py",
      "mimetype": "text/x-python",
      "name": "python",
      "nbconvert_exporter": "python",
      "pygments_lexer": "ipython3",
      "version": "3.13.7"
    },
    "notify_time": "5",
    "varInspector": {
      "cols": {
        "lenName": 16,
        "lenType": 16,
        "lenVar": 40
      },
      "kernels_config": {
        "python": {
          "delete_cmd_postfix": "",
          "delete_cmd_prefix": "del ",
          "library": "var_list.py",
          "varRefreshCmd": "print(var_dic_list())"
        },
        "r": {
          "delete_cmd_postfix": ") ",
          "delete_cmd_prefix": "rm(",
          "library": "var_list.r",
          "varRefreshCmd": "cat(var_dic_list()) "
        }
      },
      "types_to_exclude": [
        "module",
        "function",
        "builtin_function_or_method",
        "instance",
        "_Feature"
      ],
      "window_display": false
    }
  },
  "nbformat": 4,
  "nbformat_minor": 0
}
